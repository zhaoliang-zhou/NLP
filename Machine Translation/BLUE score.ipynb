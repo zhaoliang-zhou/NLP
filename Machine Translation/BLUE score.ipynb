{
 "cells": [
  {
   "cell_type": "code",
   "id": "initial_id",
   "metadata": {
    "collapsed": true,
    "ExecuteTime": {
     "end_time": "2025-03-17T20:23:26.959659Z",
     "start_time": "2025-03-17T20:23:26.747802Z"
    }
   },
   "source": [
    "from nltk.translate.bleu_score import sentence_bleu\n",
    "import nltk\n",
    "from sympy import hankel1\n",
    "\n",
    "# Define your desired weights (example: higher weight for bi-grams)\n",
    "weights = (0.25, 0.25, 0.25, 0.25)  # Weights for uni-gram, bi-gram, tri-gram, and 4-gram\n",
    "\n",
    "# Reference and predicted texts (same as before)\n",
    "reference = [[\"Chicago\", \"is\", \"famous\", \"for\", \"its\", \"deep\", \"dish\", \"pizza\", \"jazz\", \"and\", \"stunning\",\"architecture\"]]\n",
    "predictions = [\"Chicago\", \"is\", \"famous\", \"for\", \"its\", \"deep\", \"pizzas\", \"jazz\", \"and\", \"breathtaking\",\"architecture\"]\n",
    "\n",
    "# Calculate BLEU score with weights\n",
    "score = sentence_bleu(reference, predictions, weights=weights)\n",
    "print(score)\n"
   ],
   "outputs": [
    {
     "name": "stdout",
     "output_type": "stream",
     "text": [
      "0.4883499409416459\n"
     ]
    }
   ],
   "execution_count": 30
  },
  {
   "metadata": {
    "ExecuteTime": {
     "end_time": "2025-03-17T20:22:21.795947Z",
     "start_time": "2025-03-17T20:22:21.792041Z"
    }
   },
   "cell_type": "code",
   "source": "",
   "id": "e465b060cdb984de",
   "outputs": [
    {
     "data": {
      "text/plain": [
       "BLEU = 0.00 0.0/0.0/0.0/0.0 (BP = 1.000 ratio = 12.000 hyp_len = 12 ref_len = 1)"
      ]
     },
     "execution_count": 29,
     "metadata": {},
     "output_type": "execute_result"
    }
   ],
   "execution_count": 29
  }
 ],
 "metadata": {
  "kernelspec": {
   "display_name": "Python 3",
   "language": "python",
   "name": "python3"
  },
  "language_info": {
   "codemirror_mode": {
    "name": "ipython",
    "version": 2
   },
   "file_extension": ".py",
   "mimetype": "text/x-python",
   "name": "python",
   "nbconvert_exporter": "python",
   "pygments_lexer": "ipython2",
   "version": "2.7.6"
  }
 },
 "nbformat": 4,
 "nbformat_minor": 5
}
